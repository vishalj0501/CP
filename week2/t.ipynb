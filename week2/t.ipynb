{
 "cells": [
  {
   "cell_type": "code",
   "execution_count": 3,
   "metadata": {},
   "outputs": [
    {
     "name": "stdout",
     "output_type": "stream",
     "text": [
      "12\n"
     ]
    }
   ],
   "source": [
    "\n",
    "def min_moves(n,c=0):\n",
    "    if n == 1 and c==0:\n",
    "        return -1\n",
    "    if n % 6 != 0 and n!=1:\n",
    "        return min_moves(n*2,c+1)\n",
    "    if n%6 ==0 and n!=1:\n",
    "        return min_moves(n//6,c+1)\n",
    "    if n==1 and c>0:\n",
    "        return c\n",
    "\n",
    "\n",
    "print(min_moves(15116544))"
   ]
  },
  {
   "cell_type": "code",
   "execution_count": 1,
   "metadata": {},
   "outputs": [
    {
     "data": {
      "text/plain": [
       "'NO'"
      ]
     },
     "execution_count": 1,
     "metadata": {},
     "output_type": "execute_result"
    }
   ],
   "source": [
    "def equilibriun(n):\n",
    "    sets = [list(map(int, input().split())) for _ in range(n)]\n",
    "    columns = list(zip(*sets)) # transpose the list of sets to get columns\n",
    "    if all(sum(col) == 0 for col in columns):\n",
    "        return \"YES\"\n",
    "    else:\n",
    "        return \"NO\"\n",
    "    \n",
    "\n",
    "equilibriun(3)"
   ]
  },
  {
   "cell_type": "code",
   "execution_count": 3,
   "metadata": {},
   "outputs": [
    {
     "data": {
      "text/plain": [
       "1"
      ]
     },
     "execution_count": 3,
     "metadata": {},
     "output_type": "execute_result"
    }
   ],
   "source": [
    "l=[3,1,3,4]\n",
    "for i in l:\n",
    "    if l.count(i)>1:\n",
    "        \n"
   ]
  },
  {
   "cell_type": "code",
   "execution_count": 27,
   "metadata": {},
   "outputs": [
    {
     "name": "stdout",
     "output_type": "stream",
     "text": [
      "3\n"
     ]
    }
   ],
   "source": [
    "def steps(l,c=0):\n",
    "    for i in l:\n",
    "        if l.count(i)>1:\n",
    "            l.remove(i)\n",
    "            c+=1\n",
    "        else:\n",
    "            continue\n",
    "    return c\n",
    "\n",
    "print(steps([1,2,1,7,1,2,1]))\n"
   ]
  },
  {
   "cell_type": "code",
   "execution_count": 15,
   "metadata": {},
   "outputs": [
    {
     "data": {
      "text/plain": [
       "4"
      ]
     },
     "execution_count": 15,
     "metadata": {},
     "output_type": "execute_result"
    }
   ],
   "source": [
    "\n",
    "l=[1,2,1,7,1,2,1]\n",
    "\n",
    "len(l)"
   ]
  },
  {
   "cell_type": "code",
   "execution_count": 31,
   "metadata": {},
   "outputs": [
    {
     "name": "stdout",
     "output_type": "stream",
     "text": [
      "5\n"
     ]
    }
   ],
   "source": [
    "def min_moves(list1):\n",
    "    removed = 0\n",
    "    while len(list1)>0:\n",
    "        if len(set(list1)) == len(list1):\n",
    "            return removed\n",
    "        else:\n",
    "            list1.pop(0)\n",
    "            removed += 1\n",
    "    return -1"
   ]
  },
  {
   "cell_type": "code",
   "execution_count": 30,
   "metadata": {},
   "outputs": [
    {
     "data": {
      "text/plain": [
       "{1, 2, 7}"
      ]
     },
     "execution_count": 30,
     "metadata": {},
     "output_type": "execute_result"
    }
   ],
   "source": [
    "l=[1,2,1,7,1,2,1]\n",
    "set(l)"
   ]
  },
  {
   "cell_type": "code",
   "execution_count": null,
   "metadata": {},
   "outputs": [],
   "source": []
  }
 ],
 "metadata": {
  "kernelspec": {
   "display_name": "base",
   "language": "python",
   "name": "python3"
  },
  "language_info": {
   "codemirror_mode": {
    "name": "ipython",
    "version": 3
   },
   "file_extension": ".py",
   "mimetype": "text/x-python",
   "name": "python",
   "nbconvert_exporter": "python",
   "pygments_lexer": "ipython3",
   "version": "3.10.9"
  },
  "orig_nbformat": 4
 },
 "nbformat": 4,
 "nbformat_minor": 2
}
